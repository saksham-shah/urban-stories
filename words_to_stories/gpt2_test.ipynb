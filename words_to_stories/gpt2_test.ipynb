{
 "cells": [
  {
   "cell_type": "code",
   "execution_count": null,
   "metadata": {},
   "outputs": [],
   "source": [
    "# Upload this to Google Colab to run it as the model is large\n",
    "# Will upload a .py version of this too so we can merge it with the other python code\n",
    "!pip install -q gpt-2-simple\n",
    "import gpt_2_simple as gpt2\n",
    "import requests\n",
    "import random"
   ]
  },
  {
   "cell_type": "code",
   "execution_count": null,
   "metadata": {},
   "outputs": [],
   "source": [
    "# Set model to use: 124M, 335M or 774M\n",
    "model_name = \"774M\""
   ]
  },
  {
   "cell_type": "code",
   "execution_count": null,
   "metadata": {},
   "outputs": [],
   "source": [
    "# Download the model - should only need to run this once\n",
    "# Saves the model in a 'models' folder\n",
    "gpt2.download_gpt2(model_name=model_name)"
   ]
  },
  {
   "cell_type": "code",
   "execution_count": null,
   "metadata": {},
   "outputs": [],
   "source": [
    "# Load the model to be used\n",
    "sess = gpt2.start_tf_sess()\n",
    "gpt2.load_gpt2(sess, model_name=model_name)"
   ]
  },
  {
   "cell_type": "code",
   "execution_count": null,
   "metadata": {},
   "outputs": [],
   "source": [
    "# Use GPT2 to generate text with a prefix\n",
    "# Temperature, top_p etc has been set according to a tutorial that recommended those values\n",
    "def generateWithPrefix(sess, prefix, length=100, include_prefix=True):\n",
    "  return gpt2.generate(sess,\n",
    "              model_name=model_name,\n",
    "              prefix=prefix,\n",
    "              length=length,\n",
    "              temperature=0.7,\n",
    "              top_p=0.9,\n",
    "              include_prefix=include_prefix,\n",
    "              return_as_list=True\n",
    "              )[0]\n",
    "\n",
    "# Get the part of speech of a word using Dictionary API\n",
    "def getPartOfSpeech(word):\n",
    "  result = requests.get(\"https://api.dictionaryapi.dev/api/v2/entries/en/\" + word)\n",
    "\n",
    "  if result.status_code != 200:\n",
    "    return None\n",
    "  \n",
    "  json = result.json()\n",
    "  return json[0][\"meanings\"][0][\"partOfSpeech\"]\n",
    "\n",
    "# Find a word with a specific part of speech and replace it with a given word\n",
    "# I will comment this better later just uploading to github rn\n",
    "def replacePartOfSpeech(sentence, word, partOfSpeech):\n",
    "  sentence += \" \"\n",
    "  output = \"\"\n",
    "  currentWord = \"\"\n",
    "  for char in sentence:\n",
    "    if char >= 'a' and char <= 'z':\n",
    "      currentWord += char\n",
    "    else:\n",
    "      if (len(word) > 0):\n",
    "        # end of word\n",
    "        wordPartOfSpeech = getPartOfSpeech(currentWord)\n",
    "        if (wordPartOfSpeech == partOfSpeech and random.uniform(0, 1) > 0.5):\n",
    "          output += word\n",
    "          return output\n",
    "        else:\n",
    "          output += currentWord\n",
    "        currentWord = \"\"\n",
    "      output += char\n",
    "\n",
    "  return None\n",
    "\n",
    "# Insert a word into the sentence by replacing it with a word with a matching part of speech\n",
    "def insertWordAndTruncate(sentence, word):\n",
    "  # Get the part of speech of the word\n",
    "  partOfSpeech = getPartOfSpeech(word)\n",
    "  # Replace a word of that part of speech with the word\n",
    "  return replacePartOfSpeech(sentence, word, partOfSpeech)\n",
    "\n",
    "\n",
    "# Generate a sentence with a set of keywords\n",
    "# I will comment this better later just uploading to github rn\n",
    "def generateWithKeywords(sess, prefix, keywords):\n",
    "  output = prefix\n",
    "  for word in keywords:\n",
    "    attempts = 0\n",
    "    addition = None\n",
    "    while (attempts < 5 and addition == None):\n",
    "      print(\"Prefix: \" + output)\n",
    "      print(\"Word: \" + word)\n",
    "      generated = generateWithPrefix(sess, output, 20 + attempts * 10)\n",
    "      print(\"Generated: \" + generated)\n",
    "      addition = insertWordAndTruncate(generated[len(output):], word)\n",
    "      print(\"Truncated: \" + str(addition))\n",
    "      \n",
    "      attempts += 1\n",
    "    if (addition != None):\n",
    "      output += addition\n",
    "  \n",
    "  output = generateWithPrefix(sess, output, 20)\n",
    "  return output"
   ]
  },
  {
   "cell_type": "code",
   "execution_count": null,
   "metadata": {},
   "outputs": [],
   "source": [
    "story = generateWithKeywords(sess, \"Once upon a time, \", [\"shower\", \"mountain\", \"gear\"])\n",
    "print(str(story))"
   ]
  }
 ],
 "metadata": {
  "language_info": {
   "codemirror_mode": {
    "name": "ipython",
    "version": 3
   },
   "file_extension": ".py",
   "mimetype": "text/x-python",
   "name": "python",
   "nbconvert_exporter": "python",
   "pygments_lexer": "ipython3",
   "version": 3
  },
  "orig_nbformat": 2
 },
 "nbformat": 4,
 "nbformat_minor": 2
}